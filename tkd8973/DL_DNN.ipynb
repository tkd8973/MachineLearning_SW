{
  "nbformat": 4,
  "nbformat_minor": 0,
  "metadata": {
    "colab": {
      "provenance": [],
      "machine_shape": "hm",
      "include_colab_link": true
    },
    "kernelspec": {
      "name": "python3",
      "display_name": "Python 3"
    },
    "language_info": {
      "name": "python"
    },
    "accelerator": "GPU",
    "gpuClass": "standard",
    "widgets": {
      "application/vnd.jupyter.widget-state+json": {
        "22c817b0ac9848e1a2b07ce0d72c068b": {
          "model_module": "@jupyter-widgets/controls",
          "model_name": "HBoxModel",
          "model_module_version": "1.5.0",
          "state": {
            "_dom_classes": [],
            "_model_module": "@jupyter-widgets/controls",
            "_model_module_version": "1.5.0",
            "_model_name": "HBoxModel",
            "_view_count": null,
            "_view_module": "@jupyter-widgets/controls",
            "_view_module_version": "1.5.0",
            "_view_name": "HBoxView",
            "box_style": "",
            "children": [
              "IPY_MODEL_0827fba3512a45e8904189dff9bc4aad",
              "IPY_MODEL_2d6421cdfcbc4856bdb4fbd00a4755bc",
              "IPY_MODEL_213ab685e56d450fa99abfa0d3b8fc07"
            ],
            "layout": "IPY_MODEL_5ea2747eb3964937b70ec79be616be58"
          }
        },
        "0827fba3512a45e8904189dff9bc4aad": {
          "model_module": "@jupyter-widgets/controls",
          "model_name": "HTMLModel",
          "model_module_version": "1.5.0",
          "state": {
            "_dom_classes": [],
            "_model_module": "@jupyter-widgets/controls",
            "_model_module_version": "1.5.0",
            "_model_name": "HTMLModel",
            "_view_count": null,
            "_view_module": "@jupyter-widgets/controls",
            "_view_module_version": "1.5.0",
            "_view_name": "HTMLView",
            "description": "",
            "description_tooltip": null,
            "layout": "IPY_MODEL_0772107a333c4d4fa3097312266e7e1e",
            "placeholder": "​",
            "style": "IPY_MODEL_40fa6d4e713149009dad3ea977e2e27b",
            "value": "100%"
          }
        },
        "2d6421cdfcbc4856bdb4fbd00a4755bc": {
          "model_module": "@jupyter-widgets/controls",
          "model_name": "FloatProgressModel",
          "model_module_version": "1.5.0",
          "state": {
            "_dom_classes": [],
            "_model_module": "@jupyter-widgets/controls",
            "_model_module_version": "1.5.0",
            "_model_name": "FloatProgressModel",
            "_view_count": null,
            "_view_module": "@jupyter-widgets/controls",
            "_view_module_version": "1.5.0",
            "_view_name": "ProgressView",
            "bar_style": "success",
            "description": "",
            "description_tooltip": null,
            "layout": "IPY_MODEL_02beed2bd99b4881ba051b8e520325f2",
            "max": 26421880,
            "min": 0,
            "orientation": "horizontal",
            "style": "IPY_MODEL_b7c64a0de17c4d1ab28ca386a6ee02a1",
            "value": 26421880
          }
        },
        "213ab685e56d450fa99abfa0d3b8fc07": {
          "model_module": "@jupyter-widgets/controls",
          "model_name": "HTMLModel",
          "model_module_version": "1.5.0",
          "state": {
            "_dom_classes": [],
            "_model_module": "@jupyter-widgets/controls",
            "_model_module_version": "1.5.0",
            "_model_name": "HTMLModel",
            "_view_count": null,
            "_view_module": "@jupyter-widgets/controls",
            "_view_module_version": "1.5.0",
            "_view_name": "HTMLView",
            "description": "",
            "description_tooltip": null,
            "layout": "IPY_MODEL_dd6c5d8a5d0342d38ecf4e9abec37fa2",
            "placeholder": "​",
            "style": "IPY_MODEL_b93a839e36de4811b563fd3d305dead0",
            "value": " 26421880/26421880 [00:03&lt;00:00, 14443063.67it/s]"
          }
        },
        "5ea2747eb3964937b70ec79be616be58": {
          "model_module": "@jupyter-widgets/base",
          "model_name": "LayoutModel",
          "model_module_version": "1.2.0",
          "state": {
            "_model_module": "@jupyter-widgets/base",
            "_model_module_version": "1.2.0",
            "_model_name": "LayoutModel",
            "_view_count": null,
            "_view_module": "@jupyter-widgets/base",
            "_view_module_version": "1.2.0",
            "_view_name": "LayoutView",
            "align_content": null,
            "align_items": null,
            "align_self": null,
            "border": null,
            "bottom": null,
            "display": null,
            "flex": null,
            "flex_flow": null,
            "grid_area": null,
            "grid_auto_columns": null,
            "grid_auto_flow": null,
            "grid_auto_rows": null,
            "grid_column": null,
            "grid_gap": null,
            "grid_row": null,
            "grid_template_areas": null,
            "grid_template_columns": null,
            "grid_template_rows": null,
            "height": null,
            "justify_content": null,
            "justify_items": null,
            "left": null,
            "margin": null,
            "max_height": null,
            "max_width": null,
            "min_height": null,
            "min_width": null,
            "object_fit": null,
            "object_position": null,
            "order": null,
            "overflow": null,
            "overflow_x": null,
            "overflow_y": null,
            "padding": null,
            "right": null,
            "top": null,
            "visibility": null,
            "width": null
          }
        },
        "0772107a333c4d4fa3097312266e7e1e": {
          "model_module": "@jupyter-widgets/base",
          "model_name": "LayoutModel",
          "model_module_version": "1.2.0",
          "state": {
            "_model_module": "@jupyter-widgets/base",
            "_model_module_version": "1.2.0",
            "_model_name": "LayoutModel",
            "_view_count": null,
            "_view_module": "@jupyter-widgets/base",
            "_view_module_version": "1.2.0",
            "_view_name": "LayoutView",
            "align_content": null,
            "align_items": null,
            "align_self": null,
            "border": null,
            "bottom": null,
            "display": null,
            "flex": null,
            "flex_flow": null,
            "grid_area": null,
            "grid_auto_columns": null,
            "grid_auto_flow": null,
            "grid_auto_rows": null,
            "grid_column": null,
            "grid_gap": null,
            "grid_row": null,
            "grid_template_areas": null,
            "grid_template_columns": null,
            "grid_template_rows": null,
            "height": null,
            "justify_content": null,
            "justify_items": null,
            "left": null,
            "margin": null,
            "max_height": null,
            "max_width": null,
            "min_height": null,
            "min_width": null,
            "object_fit": null,
            "object_position": null,
            "order": null,
            "overflow": null,
            "overflow_x": null,
            "overflow_y": null,
            "padding": null,
            "right": null,
            "top": null,
            "visibility": null,
            "width": null
          }
        },
        "40fa6d4e713149009dad3ea977e2e27b": {
          "model_module": "@jupyter-widgets/controls",
          "model_name": "DescriptionStyleModel",
          "model_module_version": "1.5.0",
          "state": {
            "_model_module": "@jupyter-widgets/controls",
            "_model_module_version": "1.5.0",
            "_model_name": "DescriptionStyleModel",
            "_view_count": null,
            "_view_module": "@jupyter-widgets/base",
            "_view_module_version": "1.2.0",
            "_view_name": "StyleView",
            "description_width": ""
          }
        },
        "02beed2bd99b4881ba051b8e520325f2": {
          "model_module": "@jupyter-widgets/base",
          "model_name": "LayoutModel",
          "model_module_version": "1.2.0",
          "state": {
            "_model_module": "@jupyter-widgets/base",
            "_model_module_version": "1.2.0",
            "_model_name": "LayoutModel",
            "_view_count": null,
            "_view_module": "@jupyter-widgets/base",
            "_view_module_version": "1.2.0",
            "_view_name": "LayoutView",
            "align_content": null,
            "align_items": null,
            "align_self": null,
            "border": null,
            "bottom": null,
            "display": null,
            "flex": null,
            "flex_flow": null,
            "grid_area": null,
            "grid_auto_columns": null,
            "grid_auto_flow": null,
            "grid_auto_rows": null,
            "grid_column": null,
            "grid_gap": null,
            "grid_row": null,
            "grid_template_areas": null,
            "grid_template_columns": null,
            "grid_template_rows": null,
            "height": null,
            "justify_content": null,
            "justify_items": null,
            "left": null,
            "margin": null,
            "max_height": null,
            "max_width": null,
            "min_height": null,
            "min_width": null,
            "object_fit": null,
            "object_position": null,
            "order": null,
            "overflow": null,
            "overflow_x": null,
            "overflow_y": null,
            "padding": null,
            "right": null,
            "top": null,
            "visibility": null,
            "width": null
          }
        },
        "b7c64a0de17c4d1ab28ca386a6ee02a1": {
          "model_module": "@jupyter-widgets/controls",
          "model_name": "ProgressStyleModel",
          "model_module_version": "1.5.0",
          "state": {
            "_model_module": "@jupyter-widgets/controls",
            "_model_module_version": "1.5.0",
            "_model_name": "ProgressStyleModel",
            "_view_count": null,
            "_view_module": "@jupyter-widgets/base",
            "_view_module_version": "1.2.0",
            "_view_name": "StyleView",
            "bar_color": null,
            "description_width": ""
          }
        },
        "dd6c5d8a5d0342d38ecf4e9abec37fa2": {
          "model_module": "@jupyter-widgets/base",
          "model_name": "LayoutModel",
          "model_module_version": "1.2.0",
          "state": {
            "_model_module": "@jupyter-widgets/base",
            "_model_module_version": "1.2.0",
            "_model_name": "LayoutModel",
            "_view_count": null,
            "_view_module": "@jupyter-widgets/base",
            "_view_module_version": "1.2.0",
            "_view_name": "LayoutView",
            "align_content": null,
            "align_items": null,
            "align_self": null,
            "border": null,
            "bottom": null,
            "display": null,
            "flex": null,
            "flex_flow": null,
            "grid_area": null,
            "grid_auto_columns": null,
            "grid_auto_flow": null,
            "grid_auto_rows": null,
            "grid_column": null,
            "grid_gap": null,
            "grid_row": null,
            "grid_template_areas": null,
            "grid_template_columns": null,
            "grid_template_rows": null,
            "height": null,
            "justify_content": null,
            "justify_items": null,
            "left": null,
            "margin": null,
            "max_height": null,
            "max_width": null,
            "min_height": null,
            "min_width": null,
            "object_fit": null,
            "object_position": null,
            "order": null,
            "overflow": null,
            "overflow_x": null,
            "overflow_y": null,
            "padding": null,
            "right": null,
            "top": null,
            "visibility": null,
            "width": null
          }
        },
        "b93a839e36de4811b563fd3d305dead0": {
          "model_module": "@jupyter-widgets/controls",
          "model_name": "DescriptionStyleModel",
          "model_module_version": "1.5.0",
          "state": {
            "_model_module": "@jupyter-widgets/controls",
            "_model_module_version": "1.5.0",
            "_model_name": "DescriptionStyleModel",
            "_view_count": null,
            "_view_module": "@jupyter-widgets/base",
            "_view_module_version": "1.2.0",
            "_view_name": "StyleView",
            "description_width": ""
          }
        },
        "82ecec0a3bb44ee1a60902846d3d5b34": {
          "model_module": "@jupyter-widgets/controls",
          "model_name": "HBoxModel",
          "model_module_version": "1.5.0",
          "state": {
            "_dom_classes": [],
            "_model_module": "@jupyter-widgets/controls",
            "_model_module_version": "1.5.0",
            "_model_name": "HBoxModel",
            "_view_count": null,
            "_view_module": "@jupyter-widgets/controls",
            "_view_module_version": "1.5.0",
            "_view_name": "HBoxView",
            "box_style": "",
            "children": [
              "IPY_MODEL_599d24f5562b4d20aecb4fa7abac912e",
              "IPY_MODEL_5be6f198e90148e1a907a956cc6dcecd",
              "IPY_MODEL_5bfa718a173c413ba7ce72e3887a5620"
            ],
            "layout": "IPY_MODEL_69dd473256fb4adf956474cad3e89766"
          }
        },
        "599d24f5562b4d20aecb4fa7abac912e": {
          "model_module": "@jupyter-widgets/controls",
          "model_name": "HTMLModel",
          "model_module_version": "1.5.0",
          "state": {
            "_dom_classes": [],
            "_model_module": "@jupyter-widgets/controls",
            "_model_module_version": "1.5.0",
            "_model_name": "HTMLModel",
            "_view_count": null,
            "_view_module": "@jupyter-widgets/controls",
            "_view_module_version": "1.5.0",
            "_view_name": "HTMLView",
            "description": "",
            "description_tooltip": null,
            "layout": "IPY_MODEL_6f60e254cdb14fb9a1d5d3eb2dc6627b",
            "placeholder": "​",
            "style": "IPY_MODEL_261e836e0ded49ce84a73a71bf150ceb",
            "value": "100%"
          }
        },
        "5be6f198e90148e1a907a956cc6dcecd": {
          "model_module": "@jupyter-widgets/controls",
          "model_name": "FloatProgressModel",
          "model_module_version": "1.5.0",
          "state": {
            "_dom_classes": [],
            "_model_module": "@jupyter-widgets/controls",
            "_model_module_version": "1.5.0",
            "_model_name": "FloatProgressModel",
            "_view_count": null,
            "_view_module": "@jupyter-widgets/controls",
            "_view_module_version": "1.5.0",
            "_view_name": "ProgressView",
            "bar_style": "success",
            "description": "",
            "description_tooltip": null,
            "layout": "IPY_MODEL_b840fcea844b494880f69d9675851bd6",
            "max": 29515,
            "min": 0,
            "orientation": "horizontal",
            "style": "IPY_MODEL_ffb7b103d299429caed607d739b24235",
            "value": 29515
          }
        },
        "5bfa718a173c413ba7ce72e3887a5620": {
          "model_module": "@jupyter-widgets/controls",
          "model_name": "HTMLModel",
          "model_module_version": "1.5.0",
          "state": {
            "_dom_classes": [],
            "_model_module": "@jupyter-widgets/controls",
            "_model_module_version": "1.5.0",
            "_model_name": "HTMLModel",
            "_view_count": null,
            "_view_module": "@jupyter-widgets/controls",
            "_view_module_version": "1.5.0",
            "_view_name": "HTMLView",
            "description": "",
            "description_tooltip": null,
            "layout": "IPY_MODEL_922993d26a5f49918a0e26a5f83d6ef0",
            "placeholder": "​",
            "style": "IPY_MODEL_77991feef3284d50a11c0056245e30f6",
            "value": " 29515/29515 [00:00&lt;00:00, 148727.22it/s]"
          }
        },
        "69dd473256fb4adf956474cad3e89766": {
          "model_module": "@jupyter-widgets/base",
          "model_name": "LayoutModel",
          "model_module_version": "1.2.0",
          "state": {
            "_model_module": "@jupyter-widgets/base",
            "_model_module_version": "1.2.0",
            "_model_name": "LayoutModel",
            "_view_count": null,
            "_view_module": "@jupyter-widgets/base",
            "_view_module_version": "1.2.0",
            "_view_name": "LayoutView",
            "align_content": null,
            "align_items": null,
            "align_self": null,
            "border": null,
            "bottom": null,
            "display": null,
            "flex": null,
            "flex_flow": null,
            "grid_area": null,
            "grid_auto_columns": null,
            "grid_auto_flow": null,
            "grid_auto_rows": null,
            "grid_column": null,
            "grid_gap": null,
            "grid_row": null,
            "grid_template_areas": null,
            "grid_template_columns": null,
            "grid_template_rows": null,
            "height": null,
            "justify_content": null,
            "justify_items": null,
            "left": null,
            "margin": null,
            "max_height": null,
            "max_width": null,
            "min_height": null,
            "min_width": null,
            "object_fit": null,
            "object_position": null,
            "order": null,
            "overflow": null,
            "overflow_x": null,
            "overflow_y": null,
            "padding": null,
            "right": null,
            "top": null,
            "visibility": null,
            "width": null
          }
        },
        "6f60e254cdb14fb9a1d5d3eb2dc6627b": {
          "model_module": "@jupyter-widgets/base",
          "model_name": "LayoutModel",
          "model_module_version": "1.2.0",
          "state": {
            "_model_module": "@jupyter-widgets/base",
            "_model_module_version": "1.2.0",
            "_model_name": "LayoutModel",
            "_view_count": null,
            "_view_module": "@jupyter-widgets/base",
            "_view_module_version": "1.2.0",
            "_view_name": "LayoutView",
            "align_content": null,
            "align_items": null,
            "align_self": null,
            "border": null,
            "bottom": null,
            "display": null,
            "flex": null,
            "flex_flow": null,
            "grid_area": null,
            "grid_auto_columns": null,
            "grid_auto_flow": null,
            "grid_auto_rows": null,
            "grid_column": null,
            "grid_gap": null,
            "grid_row": null,
            "grid_template_areas": null,
            "grid_template_columns": null,
            "grid_template_rows": null,
            "height": null,
            "justify_content": null,
            "justify_items": null,
            "left": null,
            "margin": null,
            "max_height": null,
            "max_width": null,
            "min_height": null,
            "min_width": null,
            "object_fit": null,
            "object_position": null,
            "order": null,
            "overflow": null,
            "overflow_x": null,
            "overflow_y": null,
            "padding": null,
            "right": null,
            "top": null,
            "visibility": null,
            "width": null
          }
        },
        "261e836e0ded49ce84a73a71bf150ceb": {
          "model_module": "@jupyter-widgets/controls",
          "model_name": "DescriptionStyleModel",
          "model_module_version": "1.5.0",
          "state": {
            "_model_module": "@jupyter-widgets/controls",
            "_model_module_version": "1.5.0",
            "_model_name": "DescriptionStyleModel",
            "_view_count": null,
            "_view_module": "@jupyter-widgets/base",
            "_view_module_version": "1.2.0",
            "_view_name": "StyleView",
            "description_width": ""
          }
        },
        "b840fcea844b494880f69d9675851bd6": {
          "model_module": "@jupyter-widgets/base",
          "model_name": "LayoutModel",
          "model_module_version": "1.2.0",
          "state": {
            "_model_module": "@jupyter-widgets/base",
            "_model_module_version": "1.2.0",
            "_model_name": "LayoutModel",
            "_view_count": null,
            "_view_module": "@jupyter-widgets/base",
            "_view_module_version": "1.2.0",
            "_view_name": "LayoutView",
            "align_content": null,
            "align_items": null,
            "align_self": null,
            "border": null,
            "bottom": null,
            "display": null,
            "flex": null,
            "flex_flow": null,
            "grid_area": null,
            "grid_auto_columns": null,
            "grid_auto_flow": null,
            "grid_auto_rows": null,
            "grid_column": null,
            "grid_gap": null,
            "grid_row": null,
            "grid_template_areas": null,
            "grid_template_columns": null,
            "grid_template_rows": null,
            "height": null,
            "justify_content": null,
            "justify_items": null,
            "left": null,
            "margin": null,
            "max_height": null,
            "max_width": null,
            "min_height": null,
            "min_width": null,
            "object_fit": null,
            "object_position": null,
            "order": null,
            "overflow": null,
            "overflow_x": null,
            "overflow_y": null,
            "padding": null,
            "right": null,
            "top": null,
            "visibility": null,
            "width": null
          }
        },
        "ffb7b103d299429caed607d739b24235": {
          "model_module": "@jupyter-widgets/controls",
          "model_name": "ProgressStyleModel",
          "model_module_version": "1.5.0",
          "state": {
            "_model_module": "@jupyter-widgets/controls",
            "_model_module_version": "1.5.0",
            "_model_name": "ProgressStyleModel",
            "_view_count": null,
            "_view_module": "@jupyter-widgets/base",
            "_view_module_version": "1.2.0",
            "_view_name": "StyleView",
            "bar_color": null,
            "description_width": ""
          }
        },
        "922993d26a5f49918a0e26a5f83d6ef0": {
          "model_module": "@jupyter-widgets/base",
          "model_name": "LayoutModel",
          "model_module_version": "1.2.0",
          "state": {
            "_model_module": "@jupyter-widgets/base",
            "_model_module_version": "1.2.0",
            "_model_name": "LayoutModel",
            "_view_count": null,
            "_view_module": "@jupyter-widgets/base",
            "_view_module_version": "1.2.0",
            "_view_name": "LayoutView",
            "align_content": null,
            "align_items": null,
            "align_self": null,
            "border": null,
            "bottom": null,
            "display": null,
            "flex": null,
            "flex_flow": null,
            "grid_area": null,
            "grid_auto_columns": null,
            "grid_auto_flow": null,
            "grid_auto_rows": null,
            "grid_column": null,
            "grid_gap": null,
            "grid_row": null,
            "grid_template_areas": null,
            "grid_template_columns": null,
            "grid_template_rows": null,
            "height": null,
            "justify_content": null,
            "justify_items": null,
            "left": null,
            "margin": null,
            "max_height": null,
            "max_width": null,
            "min_height": null,
            "min_width": null,
            "object_fit": null,
            "object_position": null,
            "order": null,
            "overflow": null,
            "overflow_x": null,
            "overflow_y": null,
            "padding": null,
            "right": null,
            "top": null,
            "visibility": null,
            "width": null
          }
        },
        "77991feef3284d50a11c0056245e30f6": {
          "model_module": "@jupyter-widgets/controls",
          "model_name": "DescriptionStyleModel",
          "model_module_version": "1.5.0",
          "state": {
            "_model_module": "@jupyter-widgets/controls",
            "_model_module_version": "1.5.0",
            "_model_name": "DescriptionStyleModel",
            "_view_count": null,
            "_view_module": "@jupyter-widgets/base",
            "_view_module_version": "1.2.0",
            "_view_name": "StyleView",
            "description_width": ""
          }
        },
        "0c4763c8ae564a7e8db482b2cb0a2026": {
          "model_module": "@jupyter-widgets/controls",
          "model_name": "HBoxModel",
          "model_module_version": "1.5.0",
          "state": {
            "_dom_classes": [],
            "_model_module": "@jupyter-widgets/controls",
            "_model_module_version": "1.5.0",
            "_model_name": "HBoxModel",
            "_view_count": null,
            "_view_module": "@jupyter-widgets/controls",
            "_view_module_version": "1.5.0",
            "_view_name": "HBoxView",
            "box_style": "",
            "children": [
              "IPY_MODEL_f6e812e95a1d4a748bb82f1be33939ea",
              "IPY_MODEL_c9bc2b62e447477687ed38393202c1b6",
              "IPY_MODEL_e34a91884dc94a8490ae5316af378488"
            ],
            "layout": "IPY_MODEL_e2da810f3e9a499a92766e649b15fa26"
          }
        },
        "f6e812e95a1d4a748bb82f1be33939ea": {
          "model_module": "@jupyter-widgets/controls",
          "model_name": "HTMLModel",
          "model_module_version": "1.5.0",
          "state": {
            "_dom_classes": [],
            "_model_module": "@jupyter-widgets/controls",
            "_model_module_version": "1.5.0",
            "_model_name": "HTMLModel",
            "_view_count": null,
            "_view_module": "@jupyter-widgets/controls",
            "_view_module_version": "1.5.0",
            "_view_name": "HTMLView",
            "description": "",
            "description_tooltip": null,
            "layout": "IPY_MODEL_824aff8d51d248e0943da1a2b9c34ad9",
            "placeholder": "​",
            "style": "IPY_MODEL_1e89cc5b1bc74acfa2a10f38e61339a6",
            "value": "100%"
          }
        },
        "c9bc2b62e447477687ed38393202c1b6": {
          "model_module": "@jupyter-widgets/controls",
          "model_name": "FloatProgressModel",
          "model_module_version": "1.5.0",
          "state": {
            "_dom_classes": [],
            "_model_module": "@jupyter-widgets/controls",
            "_model_module_version": "1.5.0",
            "_model_name": "FloatProgressModel",
            "_view_count": null,
            "_view_module": "@jupyter-widgets/controls",
            "_view_module_version": "1.5.0",
            "_view_name": "ProgressView",
            "bar_style": "success",
            "description": "",
            "description_tooltip": null,
            "layout": "IPY_MODEL_90be67c854234a349f3692731f5c9b4e",
            "max": 4422102,
            "min": 0,
            "orientation": "horizontal",
            "style": "IPY_MODEL_a5af24dd1e9f499fbe97c86c2840d0f6",
            "value": 4422102
          }
        },
        "e34a91884dc94a8490ae5316af378488": {
          "model_module": "@jupyter-widgets/controls",
          "model_name": "HTMLModel",
          "model_module_version": "1.5.0",
          "state": {
            "_dom_classes": [],
            "_model_module": "@jupyter-widgets/controls",
            "_model_module_version": "1.5.0",
            "_model_name": "HTMLModel",
            "_view_count": null,
            "_view_module": "@jupyter-widgets/controls",
            "_view_module_version": "1.5.0",
            "_view_name": "HTMLView",
            "description": "",
            "description_tooltip": null,
            "layout": "IPY_MODEL_438ab3f4841e400f95ccacead168720f",
            "placeholder": "​",
            "style": "IPY_MODEL_5681e3dcda034d85a9b70d74e81a20fa",
            "value": " 4422102/4422102 [00:01&lt;00:00, 4630890.71it/s]"
          }
        },
        "e2da810f3e9a499a92766e649b15fa26": {
          "model_module": "@jupyter-widgets/base",
          "model_name": "LayoutModel",
          "model_module_version": "1.2.0",
          "state": {
            "_model_module": "@jupyter-widgets/base",
            "_model_module_version": "1.2.0",
            "_model_name": "LayoutModel",
            "_view_count": null,
            "_view_module": "@jupyter-widgets/base",
            "_view_module_version": "1.2.0",
            "_view_name": "LayoutView",
            "align_content": null,
            "align_items": null,
            "align_self": null,
            "border": null,
            "bottom": null,
            "display": null,
            "flex": null,
            "flex_flow": null,
            "grid_area": null,
            "grid_auto_columns": null,
            "grid_auto_flow": null,
            "grid_auto_rows": null,
            "grid_column": null,
            "grid_gap": null,
            "grid_row": null,
            "grid_template_areas": null,
            "grid_template_columns": null,
            "grid_template_rows": null,
            "height": null,
            "justify_content": null,
            "justify_items": null,
            "left": null,
            "margin": null,
            "max_height": null,
            "max_width": null,
            "min_height": null,
            "min_width": null,
            "object_fit": null,
            "object_position": null,
            "order": null,
            "overflow": null,
            "overflow_x": null,
            "overflow_y": null,
            "padding": null,
            "right": null,
            "top": null,
            "visibility": null,
            "width": null
          }
        },
        "824aff8d51d248e0943da1a2b9c34ad9": {
          "model_module": "@jupyter-widgets/base",
          "model_name": "LayoutModel",
          "model_module_version": "1.2.0",
          "state": {
            "_model_module": "@jupyter-widgets/base",
            "_model_module_version": "1.2.0",
            "_model_name": "LayoutModel",
            "_view_count": null,
            "_view_module": "@jupyter-widgets/base",
            "_view_module_version": "1.2.0",
            "_view_name": "LayoutView",
            "align_content": null,
            "align_items": null,
            "align_self": null,
            "border": null,
            "bottom": null,
            "display": null,
            "flex": null,
            "flex_flow": null,
            "grid_area": null,
            "grid_auto_columns": null,
            "grid_auto_flow": null,
            "grid_auto_rows": null,
            "grid_column": null,
            "grid_gap": null,
            "grid_row": null,
            "grid_template_areas": null,
            "grid_template_columns": null,
            "grid_template_rows": null,
            "height": null,
            "justify_content": null,
            "justify_items": null,
            "left": null,
            "margin": null,
            "max_height": null,
            "max_width": null,
            "min_height": null,
            "min_width": null,
            "object_fit": null,
            "object_position": null,
            "order": null,
            "overflow": null,
            "overflow_x": null,
            "overflow_y": null,
            "padding": null,
            "right": null,
            "top": null,
            "visibility": null,
            "width": null
          }
        },
        "1e89cc5b1bc74acfa2a10f38e61339a6": {
          "model_module": "@jupyter-widgets/controls",
          "model_name": "DescriptionStyleModel",
          "model_module_version": "1.5.0",
          "state": {
            "_model_module": "@jupyter-widgets/controls",
            "_model_module_version": "1.5.0",
            "_model_name": "DescriptionStyleModel",
            "_view_count": null,
            "_view_module": "@jupyter-widgets/base",
            "_view_module_version": "1.2.0",
            "_view_name": "StyleView",
            "description_width": ""
          }
        },
        "90be67c854234a349f3692731f5c9b4e": {
          "model_module": "@jupyter-widgets/base",
          "model_name": "LayoutModel",
          "model_module_version": "1.2.0",
          "state": {
            "_model_module": "@jupyter-widgets/base",
            "_model_module_version": "1.2.0",
            "_model_name": "LayoutModel",
            "_view_count": null,
            "_view_module": "@jupyter-widgets/base",
            "_view_module_version": "1.2.0",
            "_view_name": "LayoutView",
            "align_content": null,
            "align_items": null,
            "align_self": null,
            "border": null,
            "bottom": null,
            "display": null,
            "flex": null,
            "flex_flow": null,
            "grid_area": null,
            "grid_auto_columns": null,
            "grid_auto_flow": null,
            "grid_auto_rows": null,
            "grid_column": null,
            "grid_gap": null,
            "grid_row": null,
            "grid_template_areas": null,
            "grid_template_columns": null,
            "grid_template_rows": null,
            "height": null,
            "justify_content": null,
            "justify_items": null,
            "left": null,
            "margin": null,
            "max_height": null,
            "max_width": null,
            "min_height": null,
            "min_width": null,
            "object_fit": null,
            "object_position": null,
            "order": null,
            "overflow": null,
            "overflow_x": null,
            "overflow_y": null,
            "padding": null,
            "right": null,
            "top": null,
            "visibility": null,
            "width": null
          }
        },
        "a5af24dd1e9f499fbe97c86c2840d0f6": {
          "model_module": "@jupyter-widgets/controls",
          "model_name": "ProgressStyleModel",
          "model_module_version": "1.5.0",
          "state": {
            "_model_module": "@jupyter-widgets/controls",
            "_model_module_version": "1.5.0",
            "_model_name": "ProgressStyleModel",
            "_view_count": null,
            "_view_module": "@jupyter-widgets/base",
            "_view_module_version": "1.2.0",
            "_view_name": "StyleView",
            "bar_color": null,
            "description_width": ""
          }
        },
        "438ab3f4841e400f95ccacead168720f": {
          "model_module": "@jupyter-widgets/base",
          "model_name": "LayoutModel",
          "model_module_version": "1.2.0",
          "state": {
            "_model_module": "@jupyter-widgets/base",
            "_model_module_version": "1.2.0",
            "_model_name": "LayoutModel",
            "_view_count": null,
            "_view_module": "@jupyter-widgets/base",
            "_view_module_version": "1.2.0",
            "_view_name": "LayoutView",
            "align_content": null,
            "align_items": null,
            "align_self": null,
            "border": null,
            "bottom": null,
            "display": null,
            "flex": null,
            "flex_flow": null,
            "grid_area": null,
            "grid_auto_columns": null,
            "grid_auto_flow": null,
            "grid_auto_rows": null,
            "grid_column": null,
            "grid_gap": null,
            "grid_row": null,
            "grid_template_areas": null,
            "grid_template_columns": null,
            "grid_template_rows": null,
            "height": null,
            "justify_content": null,
            "justify_items": null,
            "left": null,
            "margin": null,
            "max_height": null,
            "max_width": null,
            "min_height": null,
            "min_width": null,
            "object_fit": null,
            "object_position": null,
            "order": null,
            "overflow": null,
            "overflow_x": null,
            "overflow_y": null,
            "padding": null,
            "right": null,
            "top": null,
            "visibility": null,
            "width": null
          }
        },
        "5681e3dcda034d85a9b70d74e81a20fa": {
          "model_module": "@jupyter-widgets/controls",
          "model_name": "DescriptionStyleModel",
          "model_module_version": "1.5.0",
          "state": {
            "_model_module": "@jupyter-widgets/controls",
            "_model_module_version": "1.5.0",
            "_model_name": "DescriptionStyleModel",
            "_view_count": null,
            "_view_module": "@jupyter-widgets/base",
            "_view_module_version": "1.2.0",
            "_view_name": "StyleView",
            "description_width": ""
          }
        },
        "e228b662b8354b73a299101b7a81f9e8": {
          "model_module": "@jupyter-widgets/controls",
          "model_name": "HBoxModel",
          "model_module_version": "1.5.0",
          "state": {
            "_dom_classes": [],
            "_model_module": "@jupyter-widgets/controls",
            "_model_module_version": "1.5.0",
            "_model_name": "HBoxModel",
            "_view_count": null,
            "_view_module": "@jupyter-widgets/controls",
            "_view_module_version": "1.5.0",
            "_view_name": "HBoxView",
            "box_style": "",
            "children": [
              "IPY_MODEL_da00f458fcf446e3ab21bd4662baf40b",
              "IPY_MODEL_275251877a81433ab5dea9024825010f",
              "IPY_MODEL_5e0c28f816c24c56816749d615c16c2f"
            ],
            "layout": "IPY_MODEL_33010487f1374481a5ae82d7bf7baa46"
          }
        },
        "da00f458fcf446e3ab21bd4662baf40b": {
          "model_module": "@jupyter-widgets/controls",
          "model_name": "HTMLModel",
          "model_module_version": "1.5.0",
          "state": {
            "_dom_classes": [],
            "_model_module": "@jupyter-widgets/controls",
            "_model_module_version": "1.5.0",
            "_model_name": "HTMLModel",
            "_view_count": null,
            "_view_module": "@jupyter-widgets/controls",
            "_view_module_version": "1.5.0",
            "_view_name": "HTMLView",
            "description": "",
            "description_tooltip": null,
            "layout": "IPY_MODEL_a84057316032422c88519055001b002c",
            "placeholder": "​",
            "style": "IPY_MODEL_c3661ed3872c465aa8b9ad25cbb68a76",
            "value": "100%"
          }
        },
        "275251877a81433ab5dea9024825010f": {
          "model_module": "@jupyter-widgets/controls",
          "model_name": "FloatProgressModel",
          "model_module_version": "1.5.0",
          "state": {
            "_dom_classes": [],
            "_model_module": "@jupyter-widgets/controls",
            "_model_module_version": "1.5.0",
            "_model_name": "FloatProgressModel",
            "_view_count": null,
            "_view_module": "@jupyter-widgets/controls",
            "_view_module_version": "1.5.0",
            "_view_name": "ProgressView",
            "bar_style": "success",
            "description": "",
            "description_tooltip": null,
            "layout": "IPY_MODEL_867dfbfae9344761a6dfd3e7aff76ae9",
            "max": 5148,
            "min": 0,
            "orientation": "horizontal",
            "style": "IPY_MODEL_c182e49f67d54f17bbcd94dd001820fd",
            "value": 5148
          }
        },
        "5e0c28f816c24c56816749d615c16c2f": {
          "model_module": "@jupyter-widgets/controls",
          "model_name": "HTMLModel",
          "model_module_version": "1.5.0",
          "state": {
            "_dom_classes": [],
            "_model_module": "@jupyter-widgets/controls",
            "_model_module_version": "1.5.0",
            "_model_name": "HTMLModel",
            "_view_count": null,
            "_view_module": "@jupyter-widgets/controls",
            "_view_module_version": "1.5.0",
            "_view_name": "HTMLView",
            "description": "",
            "description_tooltip": null,
            "layout": "IPY_MODEL_972b50f1e6134aeb8f5b7368f8e42a1e",
            "placeholder": "​",
            "style": "IPY_MODEL_fb5e999e3f1f455c9320065e9d16d884",
            "value": " 5148/5148 [00:00&lt;00:00, 277864.27it/s]"
          }
        },
        "33010487f1374481a5ae82d7bf7baa46": {
          "model_module": "@jupyter-widgets/base",
          "model_name": "LayoutModel",
          "model_module_version": "1.2.0",
          "state": {
            "_model_module": "@jupyter-widgets/base",
            "_model_module_version": "1.2.0",
            "_model_name": "LayoutModel",
            "_view_count": null,
            "_view_module": "@jupyter-widgets/base",
            "_view_module_version": "1.2.0",
            "_view_name": "LayoutView",
            "align_content": null,
            "align_items": null,
            "align_self": null,
            "border": null,
            "bottom": null,
            "display": null,
            "flex": null,
            "flex_flow": null,
            "grid_area": null,
            "grid_auto_columns": null,
            "grid_auto_flow": null,
            "grid_auto_rows": null,
            "grid_column": null,
            "grid_gap": null,
            "grid_row": null,
            "grid_template_areas": null,
            "grid_template_columns": null,
            "grid_template_rows": null,
            "height": null,
            "justify_content": null,
            "justify_items": null,
            "left": null,
            "margin": null,
            "max_height": null,
            "max_width": null,
            "min_height": null,
            "min_width": null,
            "object_fit": null,
            "object_position": null,
            "order": null,
            "overflow": null,
            "overflow_x": null,
            "overflow_y": null,
            "padding": null,
            "right": null,
            "top": null,
            "visibility": null,
            "width": null
          }
        },
        "a84057316032422c88519055001b002c": {
          "model_module": "@jupyter-widgets/base",
          "model_name": "LayoutModel",
          "model_module_version": "1.2.0",
          "state": {
            "_model_module": "@jupyter-widgets/base",
            "_model_module_version": "1.2.0",
            "_model_name": "LayoutModel",
            "_view_count": null,
            "_view_module": "@jupyter-widgets/base",
            "_view_module_version": "1.2.0",
            "_view_name": "LayoutView",
            "align_content": null,
            "align_items": null,
            "align_self": null,
            "border": null,
            "bottom": null,
            "display": null,
            "flex": null,
            "flex_flow": null,
            "grid_area": null,
            "grid_auto_columns": null,
            "grid_auto_flow": null,
            "grid_auto_rows": null,
            "grid_column": null,
            "grid_gap": null,
            "grid_row": null,
            "grid_template_areas": null,
            "grid_template_columns": null,
            "grid_template_rows": null,
            "height": null,
            "justify_content": null,
            "justify_items": null,
            "left": null,
            "margin": null,
            "max_height": null,
            "max_width": null,
            "min_height": null,
            "min_width": null,
            "object_fit": null,
            "object_position": null,
            "order": null,
            "overflow": null,
            "overflow_x": null,
            "overflow_y": null,
            "padding": null,
            "right": null,
            "top": null,
            "visibility": null,
            "width": null
          }
        },
        "c3661ed3872c465aa8b9ad25cbb68a76": {
          "model_module": "@jupyter-widgets/controls",
          "model_name": "DescriptionStyleModel",
          "model_module_version": "1.5.0",
          "state": {
            "_model_module": "@jupyter-widgets/controls",
            "_model_module_version": "1.5.0",
            "_model_name": "DescriptionStyleModel",
            "_view_count": null,
            "_view_module": "@jupyter-widgets/base",
            "_view_module_version": "1.2.0",
            "_view_name": "StyleView",
            "description_width": ""
          }
        },
        "867dfbfae9344761a6dfd3e7aff76ae9": {
          "model_module": "@jupyter-widgets/base",
          "model_name": "LayoutModel",
          "model_module_version": "1.2.0",
          "state": {
            "_model_module": "@jupyter-widgets/base",
            "_model_module_version": "1.2.0",
            "_model_name": "LayoutModel",
            "_view_count": null,
            "_view_module": "@jupyter-widgets/base",
            "_view_module_version": "1.2.0",
            "_view_name": "LayoutView",
            "align_content": null,
            "align_items": null,
            "align_self": null,
            "border": null,
            "bottom": null,
            "display": null,
            "flex": null,
            "flex_flow": null,
            "grid_area": null,
            "grid_auto_columns": null,
            "grid_auto_flow": null,
            "grid_auto_rows": null,
            "grid_column": null,
            "grid_gap": null,
            "grid_row": null,
            "grid_template_areas": null,
            "grid_template_columns": null,
            "grid_template_rows": null,
            "height": null,
            "justify_content": null,
            "justify_items": null,
            "left": null,
            "margin": null,
            "max_height": null,
            "max_width": null,
            "min_height": null,
            "min_width": null,
            "object_fit": null,
            "object_position": null,
            "order": null,
            "overflow": null,
            "overflow_x": null,
            "overflow_y": null,
            "padding": null,
            "right": null,
            "top": null,
            "visibility": null,
            "width": null
          }
        },
        "c182e49f67d54f17bbcd94dd001820fd": {
          "model_module": "@jupyter-widgets/controls",
          "model_name": "ProgressStyleModel",
          "model_module_version": "1.5.0",
          "state": {
            "_model_module": "@jupyter-widgets/controls",
            "_model_module_version": "1.5.0",
            "_model_name": "ProgressStyleModel",
            "_view_count": null,
            "_view_module": "@jupyter-widgets/base",
            "_view_module_version": "1.2.0",
            "_view_name": "StyleView",
            "bar_color": null,
            "description_width": ""
          }
        },
        "972b50f1e6134aeb8f5b7368f8e42a1e": {
          "model_module": "@jupyter-widgets/base",
          "model_name": "LayoutModel",
          "model_module_version": "1.2.0",
          "state": {
            "_model_module": "@jupyter-widgets/base",
            "_model_module_version": "1.2.0",
            "_model_name": "LayoutModel",
            "_view_count": null,
            "_view_module": "@jupyter-widgets/base",
            "_view_module_version": "1.2.0",
            "_view_name": "LayoutView",
            "align_content": null,
            "align_items": null,
            "align_self": null,
            "border": null,
            "bottom": null,
            "display": null,
            "flex": null,
            "flex_flow": null,
            "grid_area": null,
            "grid_auto_columns": null,
            "grid_auto_flow": null,
            "grid_auto_rows": null,
            "grid_column": null,
            "grid_gap": null,
            "grid_row": null,
            "grid_template_areas": null,
            "grid_template_columns": null,
            "grid_template_rows": null,
            "height": null,
            "justify_content": null,
            "justify_items": null,
            "left": null,
            "margin": null,
            "max_height": null,
            "max_width": null,
            "min_height": null,
            "min_width": null,
            "object_fit": null,
            "object_position": null,
            "order": null,
            "overflow": null,
            "overflow_x": null,
            "overflow_y": null,
            "padding": null,
            "right": null,
            "top": null,
            "visibility": null,
            "width": null
          }
        },
        "fb5e999e3f1f455c9320065e9d16d884": {
          "model_module": "@jupyter-widgets/controls",
          "model_name": "DescriptionStyleModel",
          "model_module_version": "1.5.0",
          "state": {
            "_model_module": "@jupyter-widgets/controls",
            "_model_module_version": "1.5.0",
            "_model_name": "DescriptionStyleModel",
            "_view_count": null,
            "_view_module": "@jupyter-widgets/base",
            "_view_module_version": "1.2.0",
            "_view_name": "StyleView",
            "description_width": ""
          }
        }
      }
    }
  },
  "cells": [
    {
      "cell_type": "markdown",
      "metadata": {
        "id": "view-in-github",
        "colab_type": "text"
      },
      "source": [
        "<a href=\"https://colab.research.google.com/github/tkd8973/MachineLearning_SW/blob/main/tkd8973/DL_DNN.ipynb\" target=\"_parent\"><img src=\"https://colab.research.google.com/assets/colab-badge.svg\" alt=\"Open In Colab\"/></a>"
      ]
    },
    {
      "cell_type": "markdown",
      "source": [
        "# Fashion MNIST\n",
        "* 28 x 28 px, 70,000개의 흑백 이미지로 구성\n",
        "* 신발, 드레스, 가방 등 총 10가지 카테고리가 존재\n",
        "![MNIST](https://codetorial.net/tensorflow/_images/fashion_MNIST_sample.png)"
      ],
      "metadata": {
        "id": "KppNb-pUtnZc"
      }
    },
    {
      "cell_type": "markdown",
      "source": [
        "* torch.utils.data\n",
        "    * 데이터셋의 표준을 정의하고 데이터셋을 불러오고 자르고 섞는 데 쓰는 도구들이 들어있는 모듈\n",
        "    * 파이토치 모델을 학습시키기 위한 데이터셋의 표준을 torch.utils.data.Dataset에 정의\n",
        "    * Dataset 모듈을 상속하는 파생 클래스는 학습에 필요한 데이터를 로딩해주는 torch.utils.data.DataLoader 인스턴스의 입력으로 사용할 수 있음\n",
        "* torchvision.datasets\n",
        "    * torch.utils.data.Dataset을 상속하는 이미지 데이터셋의 모음. 패션 아이템 데이터셋이 바로 여기에 들어있음\n",
        "* torchvision.transforms\n",
        "    * 이미지 데이터셋에 쓸 수 있는 여러 가지 변환 필터를 담고 있는 모듈.\n",
        "    * 예를 들어 텐서로 변환한다든지, 크기 조절(resize)과 크롭(crop)으로 이미지를 수정할 수도 있고, 밝기(brightness), 대비(contrast) 등을 조절하는 데 사용될 수도 있음\n",
        "* torchvision.utils\n",
        "    * 이미지 데이터를 저장하고 시각화하기 위한 도구가 들어있는 모듈"
      ],
      "metadata": {
        "id": "xWs544KmubOq"
      }
    },
    {
      "cell_type": "code",
      "execution_count": 2,
      "metadata": {
        "id": "3kqe4peAtTr5"
      },
      "outputs": [],
      "source": [
        "from torchvision import datasets, transforms, utils\n",
        "from torch.utils import data"
      ]
    },
    {
      "cell_type": "code",
      "source": [
        "import numpy as np\n",
        "import matplotlib.pyplot as plt"
      ],
      "metadata": {
        "id": "7GpC73miwKyn"
      },
      "execution_count": 3,
      "outputs": []
    },
    {
      "cell_type": "code",
      "source": [
        "# 이미지를 텐서로 변환\n",
        "# 토치비전의 transforms : 입력받은 이미지를 변환시키는 도구\n",
        "# 기능을 추가하고 싶다 -> transforms.Compose() 함수 안의 리스트로 넣어주면 순서대로 변환\n",
        "transform = transforms.Compose([transforms.ToTensor()])\n"
      ],
      "metadata": {
        "id": "EjO2Pzc2wWoi"
      },
      "execution_count": 4,
      "outputs": []
    },
    {
      "cell_type": "markdown",
      "source": [
        "## Transforms에서 자주 쓰이는 기능\n",
        "* ToTensor : 이미지를 파이토치 텐서로 변환\n",
        "* Resize : 이미지 크기 조정\n",
        "* Normalize : 주어진 평균과 표준편차를 이용하여 정규화\n",
        "* RandomHorizontalFlip : 무작위로 이미지의 오른쪽과 왼쪽을 뒤집는 기능\n",
        "* RandomCrop : 이미지를 무작위로 자르는 기능"
      ],
      "metadata": {
        "id": "58FnQhaB3Ydw"
      }
    },
    {
      "cell_type": "code",
      "source": [
        "# Fashion MNIST 데이터셋 불러오기\n",
        "# 토치비전의 datesets 패키지 : 데이터셋을 내려받고, Compose로 만든 이미지 변환 설정을 적용하는데 사용\n",
        "# 데이터셋을 번거롭게 다운로드 받을 필요 없고, 'download = True'. -> 현재 root 폴더. 데이터 존재 여부 판단 -> 다운로드 받아줌\n",
        "# 훈련셋/시험셋 -> train = T/F\n",
        "trainset = datasets.FashionMNIST(\n",
        "    root = './.data/',\n",
        "    train = True,\n",
        "    download = True,\n",
        "    transform = transform # ToTensor를 통해 이미지를 파이토치 Tensor화\n",
        ")\n",
        "testset = datasets.FashionMNIST(\n",
        "    root = './.data/',\n",
        "    train = False, # 시험셋\n",
        "    download = True,\n",
        "    transform = transform # ToTensor를 통해 이미지를 파이토치 Tensor화\n",
        ")"
      ],
      "metadata": {
        "colab": {
          "base_uri": "https://localhost:8080/",
          "height": 459,
          "referenced_widgets": [
            "22c817b0ac9848e1a2b07ce0d72c068b",
            "0827fba3512a45e8904189dff9bc4aad",
            "2d6421cdfcbc4856bdb4fbd00a4755bc",
            "213ab685e56d450fa99abfa0d3b8fc07",
            "5ea2747eb3964937b70ec79be616be58",
            "0772107a333c4d4fa3097312266e7e1e",
            "40fa6d4e713149009dad3ea977e2e27b",
            "02beed2bd99b4881ba051b8e520325f2",
            "b7c64a0de17c4d1ab28ca386a6ee02a1",
            "dd6c5d8a5d0342d38ecf4e9abec37fa2",
            "b93a839e36de4811b563fd3d305dead0",
            "82ecec0a3bb44ee1a60902846d3d5b34",
            "599d24f5562b4d20aecb4fa7abac912e",
            "5be6f198e90148e1a907a956cc6dcecd",
            "5bfa718a173c413ba7ce72e3887a5620",
            "69dd473256fb4adf956474cad3e89766",
            "6f60e254cdb14fb9a1d5d3eb2dc6627b",
            "261e836e0ded49ce84a73a71bf150ceb",
            "b840fcea844b494880f69d9675851bd6",
            "ffb7b103d299429caed607d739b24235",
            "922993d26a5f49918a0e26a5f83d6ef0",
            "77991feef3284d50a11c0056245e30f6",
            "0c4763c8ae564a7e8db482b2cb0a2026",
            "f6e812e95a1d4a748bb82f1be33939ea",
            "c9bc2b62e447477687ed38393202c1b6",
            "e34a91884dc94a8490ae5316af378488",
            "e2da810f3e9a499a92766e649b15fa26",
            "824aff8d51d248e0943da1a2b9c34ad9",
            "1e89cc5b1bc74acfa2a10f38e61339a6",
            "90be67c854234a349f3692731f5c9b4e",
            "a5af24dd1e9f499fbe97c86c2840d0f6",
            "438ab3f4841e400f95ccacead168720f",
            "5681e3dcda034d85a9b70d74e81a20fa",
            "e228b662b8354b73a299101b7a81f9e8",
            "da00f458fcf446e3ab21bd4662baf40b",
            "275251877a81433ab5dea9024825010f",
            "5e0c28f816c24c56816749d615c16c2f",
            "33010487f1374481a5ae82d7bf7baa46",
            "a84057316032422c88519055001b002c",
            "c3661ed3872c465aa8b9ad25cbb68a76",
            "867dfbfae9344761a6dfd3e7aff76ae9",
            "c182e49f67d54f17bbcd94dd001820fd",
            "972b50f1e6134aeb8f5b7368f8e42a1e",
            "fb5e999e3f1f455c9320065e9d16d884"
          ]
        },
        "id": "IuUSL2A0xbZR",
        "outputId": "52c4069a-c797-4b47-c86d-89937a0e6d90"
      },
      "execution_count": 5,
      "outputs": [
        {
          "output_type": "stream",
          "name": "stdout",
          "text": [
            "Downloading http://fashion-mnist.s3-website.eu-central-1.amazonaws.com/train-images-idx3-ubyte.gz\n",
            "Downloading http://fashion-mnist.s3-website.eu-central-1.amazonaws.com/train-images-idx3-ubyte.gz to ./.data/FashionMNIST/raw/train-images-idx3-ubyte.gz\n"
          ]
        },
        {
          "output_type": "display_data",
          "data": {
            "text/plain": [
              "  0%|          | 0/26421880 [00:00<?, ?it/s]"
            ],
            "application/vnd.jupyter.widget-view+json": {
              "version_major": 2,
              "version_minor": 0,
              "model_id": "22c817b0ac9848e1a2b07ce0d72c068b"
            }
          },
          "metadata": {}
        },
        {
          "output_type": "stream",
          "name": "stdout",
          "text": [
            "Extracting ./.data/FashionMNIST/raw/train-images-idx3-ubyte.gz to ./.data/FashionMNIST/raw\n",
            "\n",
            "Downloading http://fashion-mnist.s3-website.eu-central-1.amazonaws.com/train-labels-idx1-ubyte.gz\n",
            "Downloading http://fashion-mnist.s3-website.eu-central-1.amazonaws.com/train-labels-idx1-ubyte.gz to ./.data/FashionMNIST/raw/train-labels-idx1-ubyte.gz\n"
          ]
        },
        {
          "output_type": "display_data",
          "data": {
            "text/plain": [
              "  0%|          | 0/29515 [00:00<?, ?it/s]"
            ],
            "application/vnd.jupyter.widget-view+json": {
              "version_major": 2,
              "version_minor": 0,
              "model_id": "82ecec0a3bb44ee1a60902846d3d5b34"
            }
          },
          "metadata": {}
        },
        {
          "output_type": "stream",
          "name": "stdout",
          "text": [
            "Extracting ./.data/FashionMNIST/raw/train-labels-idx1-ubyte.gz to ./.data/FashionMNIST/raw\n",
            "\n",
            "Downloading http://fashion-mnist.s3-website.eu-central-1.amazonaws.com/t10k-images-idx3-ubyte.gz\n",
            "Downloading http://fashion-mnist.s3-website.eu-central-1.amazonaws.com/t10k-images-idx3-ubyte.gz to ./.data/FashionMNIST/raw/t10k-images-idx3-ubyte.gz\n"
          ]
        },
        {
          "output_type": "display_data",
          "data": {
            "text/plain": [
              "  0%|          | 0/4422102 [00:00<?, ?it/s]"
            ],
            "application/vnd.jupyter.widget-view+json": {
              "version_major": 2,
              "version_minor": 0,
              "model_id": "0c4763c8ae564a7e8db482b2cb0a2026"
            }
          },
          "metadata": {}
        },
        {
          "output_type": "stream",
          "name": "stdout",
          "text": [
            "Extracting ./.data/FashionMNIST/raw/t10k-images-idx3-ubyte.gz to ./.data/FashionMNIST/raw\n",
            "\n",
            "Downloading http://fashion-mnist.s3-website.eu-central-1.amazonaws.com/t10k-labels-idx1-ubyte.gz\n",
            "Downloading http://fashion-mnist.s3-website.eu-central-1.amazonaws.com/t10k-labels-idx1-ubyte.gz to ./.data/FashionMNIST/raw/t10k-labels-idx1-ubyte.gz\n"
          ]
        },
        {
          "output_type": "display_data",
          "data": {
            "text/plain": [
              "  0%|          | 0/5148 [00:00<?, ?it/s]"
            ],
            "application/vnd.jupyter.widget-view+json": {
              "version_major": 2,
              "version_minor": 0,
              "model_id": "e228b662b8354b73a299101b7a81f9e8"
            }
          },
          "metadata": {}
        },
        {
          "output_type": "stream",
          "name": "stdout",
          "text": [
            "Extracting ./.data/FashionMNIST/raw/t10k-labels-idx1-ubyte.gz to ./.data/FashionMNIST/raw\n",
            "\n"
          ]
        }
      ]
    },
    {
      "cell_type": "code",
      "source": [
        "# torchvision.datasets로 생성된 객체 -> 파이토치 내부 클래스 torch.utils.data.Dataset을 상속\n",
        "# 파이토치 DataLoader (Dataset 클래스를 넣어줌) -> 모델의 데이터를 로딩 -> 바로 사용해줄 수 있음\n",
        "# DataLoader는 데이터셋을 배치batch라는 작은 단위로 쪼개고, 학습 시 반복문 안에서 데이터를 공급해주는 클래스\n",
        "\n",
        "# 배치 크기(batch size)를 지정\n",
        "# -> 한 번에 처리하는 데이터 개수 (처리 -> 딥러닝 : 학습)\n",
        "# 배치 크기가 16이다 -> 반복할 때마다 (한 번 로딩할 때) 16개씩 읽어줌\n",
        "batch_size = 16\n",
        "# 컴퓨터 메모리 공간에 여유가 있다면 더 크게 해도 되고, 여유가 없다면 적게 해야함 (2의 배수)"
      ],
      "metadata": {
        "id": "aPsodT-N5Jnn"
      },
      "execution_count": 6,
      "outputs": []
    },
    {
      "cell_type": "code",
      "source": [
        "# 메모리 확인 명령어\n",
        "!free"
      ],
      "metadata": {
        "colab": {
          "base_uri": "https://localhost:8080/"
        },
        "id": "xAN2OKSc58fh",
        "outputId": "d575c98f-8043-4f7c-d879-02f01bb8c55e"
      },
      "execution_count": 7,
      "outputs": [
        {
          "output_type": "stream",
          "name": "stdout",
          "text": [
            "              total        used        free      shared  buff/cache   available\n",
            "Mem:       13297200     1149664     8221064        1388     3926472    11856416\n",
            "Swap:             0           0           0\n"
          ]
        }
      ]
    },
    {
      "cell_type": "code",
      "source": [
        "# 데이터로더(DataLoader)의 매개변수에 앞서 불러온 데이터셋을 넣어주고 배치 크기를 지정\n",
        "# 한 번에 16개씩의 배치를 로딩해주는 데이터로더 학습셋/시험셋\n",
        "train_loader = data.DataLoader(\n",
        "    dataset= trainset,\n",
        "    batch_size=batch_size\n",
        ")\n",
        "test_loader = data.DataLoader(\n",
        "    dataset = testset,\n",
        "    batch_size=batch_size\n",
        ")"
      ],
      "metadata": {
        "id": "b4scChpA6Tsi"
      },
      "execution_count": 8,
      "outputs": []
    },
    {
      "cell_type": "code",
      "source": [
        "# iter() 함수 : 반복되는 객체를 반복문 안에 이용할 수 있도록 만들어주는 함수\n",
        "# next() 함수 : 배치 1개를 (아직 반복되지 않은 하나의 원소를) 불러와주는 함수\n",
        "# 배치 1개의 images와 labels을 불러오는 구조 -> images, labels -> 앞서 설정한 배치 크기만큼 각각 이미지 16개와 레이블 16개가 들어있음\n",
        "dataiter = iter(train_loader)\n",
        "images,labels = next(dataiter)\n"
      ],
      "metadata": {
        "id": "hqZpm66L6tJe"
      },
      "execution_count": 9,
      "outputs": []
    },
    {
      "cell_type": "code",
      "source": [
        "# utils.make_grid() 함수 -> 여러 이미지를 모아서 하나의 이미지\n",
        "# img -> matplotlib 호환 -> numpy 배열로 변환\n",
        "img = utils.make_grid(images)\n",
        "npimg =img.numpy()\n",
        "# 텐서 -> 넘파이 배열\n",
        "print(npimg.shape) # 색상(0), 세로(1), 가로(2) -> (맷플롯립) 세로(1), 가로(2), 색상(0)\n",
        "plt.figure(figsize=(10, 7))\n",
        "# npimg - 이미지 넘파이 배열\n",
        "# np.transpose -> 차원의 순서를 교체\n",
        "plt.imshow(np.transpose(npimg, (1, 2, 0)))\n",
        "plt.show()"
      ],
      "metadata": {
        "colab": {
          "base_uri": "https://localhost:8080/",
          "height": 281
        },
        "id": "Xf7t05-c7V8W",
        "outputId": "8abbd20b-3a40-473b-c896-c7b8f97acd7f"
      },
      "execution_count": 10,
      "outputs": [
        {
          "output_type": "stream",
          "name": "stdout",
          "text": [
            "(3, 62, 242)\n"
          ]
        },
        {
          "output_type": "display_data",
          "data": {
            "text/plain": [
              "<Figure size 1000x700 with 1 Axes>"
            ],
            "image/png": "[encoded data removed]"
          },
          "metadata": {}
        }
      ]
    },
    {
      "cell_type": "code",
      "source": [
        "print(labels) # 한 배치에서 각각의 패션아이템 종류 "
      ],
      "metadata": {
        "colab": {
          "base_uri": "https://localhost:8080/"
        },
        "id": "C5OLMzLt80Kd",
        "outputId": "91082ca8-99ad-4244-95c6-c5f49905246a"
      },
      "execution_count": 11,
      "outputs": [
        {
          "output_type": "stream",
          "name": "stdout",
          "text": [
            "tensor([9, 0, 0, 3, 0, 2, 7, 2, 5, 5, 0, 9, 5, 5, 7, 9])\n"
          ]
        }
      ]
    },
    {
      "cell_type": "code",
      "source": [
        "# 이미지들의 클래스들은 '티셔츠/윗옷, 바지', 스웨터', '드레스', '코트', '샌들. 셔츠, '운동화', '가방, '앵글부츠, 이렇게 10가지\n",
        "# 데이터셋에서는 이름 대신에 숫자 번호로 레이블이 주어짐 -> 딕셔너리화\n",
        "CLASSES = {\n",
        "    0: 'T-shirt/top',\n",
        "    1: 'Trouser',\n",
        "    2: 'Pullover',\n",
        "    3: 'Dress',\n",
        "    4: 'Coat',\n",
        "    5: 'Sandal',\n",
        "    6: 'Shirt',\n",
        "    7: 'Sneaker',\n",
        "    8: 'Bag',\n",
        "    9: 'Ankle boot'\n",
        "}\n",
        "\n",
        "for label in labels:\n",
        "    index = label.item()\n",
        "    print(CLASSES[index])"
      ],
      "metadata": {
        "colab": {
          "base_uri": "https://localhost:8080/"
        },
        "id": "miFdoj6s86tV",
        "outputId": "c3003545-5c8d-4e68-9840-74b39ad40445"
      },
      "execution_count": 12,
      "outputs": [
        {
          "output_type": "stream",
          "name": "stdout",
          "text": [
            "Ankle boot\n",
            "T-shirt/top\n",
            "T-shirt/top\n",
            "Dress\n",
            "T-shirt/top\n",
            "Pullover\n",
            "Sneaker\n",
            "Pullover\n",
            "Sandal\n",
            "Sandal\n",
            "T-shirt/top\n",
            "Ankle boot\n",
            "Sandal\n",
            "Sandal\n",
            "Sneaker\n",
            "Ankle boot\n"
          ]
        }
      ]
    },
    {
      "cell_type": "markdown",
      "source": [
        "* 이미지의 데이터는 가로, 세로, 색상으로 구성된 3차원 행렬로 표현\n",
        "* 가로세로는 각각의 픽셀 수, 그리고 색상값은 흑백 사진이니 1가지 숫자로 나타낼 수 있음\n",
        "\n",
        "![MNIST 데이터](https://github.com/BigData23th/Data/raw/main/dl_02_01.jpeg)\n",
        "\n",
        "* 각 픽셀은 0부터 255까지 값을 가짐.\n",
        "* Fashion MNIST에서 이미지의 크기는 28 x 28, 색상 채널은 흑백 1가지 → 입력 x의 특징값 총개 수는 28 x 28 x 1개, 즉 784개"
      ],
      "metadata": {
        "id": "pwXbopXV9e0b"
      }
    },
    {
      "cell_type": "code",
      "source": [
        "# 개별 이미지 보기 (0~15)\n",
        "idx = 3 #@param {\"type\":\"number\"}\n",
        "\n",
        "item_img = images[idx] # 첫번째 이미지 꺼내기\n",
        "item_npimg = item_img.squeeze().numpy() # squeeze하고 numpy를 통해 넘파이 행렬로 만들기\n",
        "\n",
        "plt.title(CLASSES[labels[idx].item()]) # 종류 보기\n",
        "print(item_npimg.shape)\n",
        "plt.imshow(item_npimg, cmap='gray')\n",
        "plt.show()"
      ],
      "metadata": {
        "colab": {
          "base_uri": "https://localhost:8080/",
          "height": 470
        },
        "id": "tWF6pMl499Z6",
        "outputId": "879880e4-4c06-4316-b0f0-7b4624d2c2f4"
      },
      "execution_count": 13,
      "outputs": [
        {
          "output_type": "stream",
          "name": "stdout",
          "text": [
            "(28, 28)\n"
          ]
        },
        {
          "output_type": "display_data",
          "data": {
            "text/plain": [
              "<Figure size 640x480 with 1 Axes>"
            ],
            "image/png": "[encoded data removed]"
          },
          "metadata": {}
        }
      ]
    },
    {
      "cell_type": "markdown",
      "source": [
        "# 인공신경망으로 패션 아이템 분류\n",
        "심층 인공 신경망 `deep neural network, DNN`"
      ],
      "metadata": {
        "id": "eiV9-jz7Cyfo"
      }
    },
    {
      "cell_type": "markdown",
      "source": [
        "## 환경설정"
      ],
      "metadata": {
        "id": "NrA5gTAzEktT"
      }
    },
    {
      "cell_type": "code",
      "source": [
        "import torch\n",
        "\n",
        "# GPU 사용 환경\n",
        "torch.cuda.is_available()# 현재 컴퓨터(머신)에서 CUDA(GPU)를 사용할 수 있는지 확인\n",
        "# 런타임 > 런타임 유형 변경 > 하드웨어 가속기 > GPU"
      ],
      "metadata": {
        "colab": {
          "base_uri": "https://localhost:8080/"
        },
        "id": "AtOKEkVIDEKA",
        "outputId": "ea2909bb-3021-4ebe-8819-1bc61477ace0"
      },
      "execution_count": 14,
      "outputs": [
        {
          "output_type": "execute_result",
          "data": {
            "text/plain": [
              "True"
            ]
          },
          "metadata": {},
          "execution_count": 14
        }
      ]
    },
    {
      "cell_type": "code",
      "source": [
        "USE_CUDA = torch.cuda.is_available()\n",
        "USE_CUDA"
      ],
      "metadata": {
        "colab": {
          "base_uri": "https://localhost:8080/"
        },
        "id": "o1-ul0BADYsT",
        "outputId": "e7f3f295-be43-4c33-c5d6-b7f2b5a19ff2"
      },
      "execution_count": 16,
      "outputs": [
        {
          "output_type": "execute_result",
          "data": {
            "text/plain": [
              "True"
            ]
          },
          "metadata": {},
          "execution_count": 16
        }
      ]
    },
    {
      "cell_type": "code",
      "source": [
        "# USE_CUDA가 True면 cuda를 입력해서, GPU 장치를 사용하고, 아니면 CPU를 쓰겠다\n",
        "DEVICE = torch.device('cuda' if USE_CUDA else 'cpu')\n",
        "DEVICE"
      ],
      "metadata": {
        "colab": {
          "base_uri": "https://localhost:8080/"
        },
        "id": "QOHWGKjgEILa",
        "outputId": "8bbae94c-2542-4d37-8b5f-38aff9117468"
      },
      "execution_count": 17,
      "outputs": [
        {
          "output_type": "execute_result",
          "data": {
            "text/plain": [
              "device(type='cuda')"
            ]
          },
          "metadata": {},
          "execution_count": 17
        }
      ]
    },
    {
      "cell_type": "code",
      "source": [
        "# 환경에 따라서 CPU / GPU 를 알아서 설정하게 하는 코드\n",
        "USE_CUDA = torch.cuda.is_available()\n",
        "DEVICE = torch.device('cuda' if USE_CUDA else 'cpu')"
      ],
      "metadata": {
        "id": "rKwAt-4tEaoD"
      },
      "execution_count": 19,
      "outputs": []
    },
    {
      "cell_type": "code",
      "source": [
        "# 효율적 학습을 위해 (데이터셋을) 배치로 잘라서 사용\n",
        "# 각 미니 패치의 크기 (2의 배수)\n",
        "# 학습 데이터를 총 몇 번 볼 것인가\n",
        "batch_size = 64\n",
        "epochs = 30"
      ],
      "metadata": {
        "id": "VJRju8MVEoEg"
      },
      "execution_count": 20,
      "outputs": []
    },
    {
      "cell_type": "code",
      "source": [
        "import torch # 파이토치\n",
        "import torch.nn as nn # 인공 신경망 모델의 재료 -> 클래스 -> 객체 (값을 저장할 수 있음) -> 가중치가 저장되어야할 때\n",
        "import torch.optim as optim # 최적화를 위한 모듈\n",
        "import torch.nn.functional as F # nn 모듈의 함수 버전 -> 가중치 저장은 필요없고, 함수/기능만 필요\n",
        "from torchvision import transforms, datasets # 토치비전의 데이터셋 다루기 "
      ],
      "metadata": {
        "id": "WarRhp8xFvIR"
      },
      "execution_count": 18,
      "outputs": []
    },
    {
      "cell_type": "markdown",
      "source": [
        "# 데이터셋 불러오기"
      ],
      "metadata": {
        "id": "sHCBaOZ6FHAo"
      }
    },
    {
      "cell_type": "code",
      "source": [
        "# 이미지를 변환 시켜주는 transform 정의\n",
        "transform = transforms.Compose([\n",
        "    transforms.ToTensor()\n",
        "])\n",
        "trainset = datasets.FashionMNIST(\n",
        "    root = './.data/',\n",
        "    train = True,\n",
        "    download = True,\n",
        "    transform = transform # ToTensor를 통해 이미지를 파이토치 Tensor화\n",
        ")\n",
        "testset = datasets.FashionMNIST(\n",
        "    root = './.data/',\n",
        "    train = False, # 시험셋\n",
        "    download = True,\n",
        "    transform = transform # ToTensor를 통해 이미지를 파이토치 Tensor화\n",
        ")\n",
        "\n",
        "\n",
        "# 반복해서 불러올 때 배치 사이즈, 방식\n",
        "train_loader = data.DataLoader(\n",
        "    dataset= trainset,\n",
        "    batch_size=batch_size,\n",
        "    shuffle = True\n",
        ")\n",
        "test_loader = data.DataLoader(\n",
        "    dataset = testset,\n",
        "    batch_size=batch_size,\n",
        "    shuffle = True\n",
        ")"
      ],
      "metadata": {
        "id": "z41_4UMRE7Px"
      },
      "execution_count": 23,
      "outputs": []
    },
    {
      "cell_type": "markdown",
      "source": [
        "## 이미지 분류 문제\n",
        "**이미지 분류** `image classification`\n",
        "* 한 장의 이미지를 받아 이 이미지가 어느 클래스(레이블)에 속하는지 알려주는 문제\n",
        "* 상대적으로 단순한 문제지만 상업적으로 가장 영향력이 있는 문제\n",
        "* 인공 신경망을 이용한 이미지 분류 알고리즘들은 이미 여러 서비스에서 이미지 기반 검색, 추천, 광고 등에 사용\n",
        "![이미지 분류](https://github.com/BigData23th/Data/raw/main/dl_02_02.jpeg)\n",
        "* 연속된 이미지라고 할 수 있는 비디오 분류 모델들도 결국 기본적인 이미지 분류 방식에서 크게 벗어나지 않음"
      ],
      "metadata": {
        "id": "pZi-vbyUGZRK"
      }
    },
    {
      "cell_type": "markdown",
      "source": [
        "## 이미지 분류를 위한 인공 신경망 구현\n",
        "입력 x와 레이블(정답) y를 받아서 학습한 다음, 새로운 X가 왔을 때 어떤 패션 아이템인지 예측하는 모델"
      ],
      "metadata": {
        "id": "I57spdzuHy3b"
      }
    },
    {
      "cell_type": "markdown",
      "source": [
        "### 인공 신경망 구성"
      ],
      "metadata": {
        "id": "ZzhllagIH82m"
      }
    },
    {
      "cell_type": "code",
      "source": [
        "# (은닉층) 레이어가 3개인 (깊이가 3인) 인공신경망 구성\n",
        "class Net(nn.Module):\n",
        "    def __init__(self):\n",
        "        super(Net,self).__init__()\n",
        "\n",
        "    # 먼저 생성자에 모델의 가중치 변수들이 들어가는 연산(객체)들을 선언\n",
        "    # 클래스를 통해서 생성될 객체 -> self\n",
        "        \n",
        "        ## nn.Linear 클래스는 선형 결합을 수행하는 객체를 만듦\n",
        "        # input 784, output 256\n",
        "        self.fc1 = nn.Linear(784,256)\n",
        "\n",
        "        # 1 x 28 x 28 -> 784 픽셀값(한 점씩)을 입력 받아서 가중치를 행렬곱/편향. 값 256개를 출력\n",
        "        # fc는 fully connected -> 이전 레이어의 모든 노드가 다음 레이어의 모든 노드에 연결된 층 (Dense) \n",
        "        \n",
        "        # input 256, output 128\n",
        "        self.fc2 = nn.Linear(256,128)\n",
        "    \n",
        "        # input 128, output 10\n",
        "        self.fc3 = nn.Linear(128,10)\n",
        "        # 출력값 10개 각각은 클래스가 될 확률을 나타내며, 10개 중 값이 가장 큰 클래스가 이 모델의 예측값의 될 것임\n",
        "    \n",
        "    # 훈련 과정을 표현\n",
        "    # x은 입력되는 텐서\n",
        "    def forward(self,x):\n",
        "        # 데이터의 흐름을 정의\n",
        "        # n, 색상, 세로, 가로 ->  (-1, 784) # 64, 784 (배치 사이즈 만큼)\n",
        "        # 입력을 받아 view) 함수를 이용하여 랭크 1 텐서로 변환\n",
        "        # 28px x 28px인 이미지 텐서를 784 한 줄짜리 1차원 텐서\n",
        "        x = x.view(-1,784)\n",
        "        # -1 : 나머지값들. (배치 사이즈, 데이터 사이즈...)\n",
        "        # fc1()과 fc2()를 거치게 할 것, 각각 층은 ReLU 활성화 함수를 통해서 처리\n",
        "        # F.relu == nn.ReLU (거의 동일, 취향 문제) -> 가중치가 없는 연산 (저장 X)\n",
        "        x = F.relu(self.fc1(x))  # 첫번째 은닉층 연산후, relu연산\n",
        "        x = F.relu(self.fc2(x))  # 두번째 은닉층 연산후, relu연산\n",
        "        # nn.Linear -> 선형결합 (가중치) -> 거의 강제. (init(생성자)에 선언하는 것이 권장)\n",
        "        \n",
        "        x = self.fc3(x)  # 마지막으로 fc3() 함수까지 거쳐 나온 값 10개\n",
        "        return x"
      ],
      "metadata": {
        "id": "dwB8mC6dH_ao"
      },
      "execution_count": 24,
      "outputs": []
    },
    {
      "cell_type": "markdown",
      "source": [
        "* 모델 선언과 동시에 to() 함수로 연산을 어디서 수행할지 정할 수 있음\n",
        "* to() 함수는 모델의 파라미터들을 지정한 장치의 메모리로 보내는 역할을 함\n",
        "* 일반적으로 CPU만 사용한다면 필요 없지만, GPU를 사용하려면 to(\"cuda\")로 지정하여 GPU의 메모리로 보내야 함\n",
        "* 아무것도 지정하지 않으면 CPU에서 처리"
      ],
      "metadata": {
        "id": "lvw1kUjPjdj0"
      }
    },
    {
      "cell_type": "code",
      "source": [
        "model = Net().to(DEVICE)  # 기기에 맞는 (CPU, GPU) 환경을 넣어서 처리"
      ],
      "metadata": {
        "id": "y-ZCS4S_jbx6"
      },
      "execution_count": 25,
      "outputs": []
    },
    {
      "cell_type": "code",
      "source": [
        "model"
      ],
      "metadata": {
        "colab": {
          "base_uri": "https://localhost:8080/"
        },
        "id": "z66dTVr7gFwi",
        "outputId": "65aaf83a-fc0f-4d8f-db0e-b205809ddf40"
      },
      "execution_count": 26,
      "outputs": [
        {
          "output_type": "execute_result",
          "data": {
            "text/plain": [
              "Net(\n",
              "  (fc1): Linear(in_features=784, out_features=256, bias=True)\n",
              "  (fc2): Linear(in_features=256, out_features=128, bias=True)\n",
              "  (fc3): Linear(in_features=128, out_features=10, bias=True)\n",
              ")"
            ]
          },
          "metadata": {},
          "execution_count": 26
        }
      ]
    },
    {
      "cell_type": "markdown",
      "source": [
        "### 최적화 알고리즘"
      ],
      "metadata": {
        "id": "hbnyF5hMkAEn"
      }
    },
    {
      "cell_type": "code",
      "source": [
        "# 최적화 알고리즘 : 파이토치 내장 모듈인 optim.SGD를 사용\n",
        "# SGD (확률적 경사하강법, stochastic gradient descent) : 모델 최적화를 확률적 경사하강법\n",
        "# 모델 내부의 정보를 넘겨주는 model.parameters() 함수와 직접 설정한 학습률(lr)을 입력\n",
        "optimizer = optim.SGD(model.parameters(),lr = 0.01)"
      ],
      "metadata": {
        "id": "cnt4FxoCj8gj"
      },
      "execution_count": 32,
      "outputs": []
    },
    {
      "cell_type": "markdown",
      "source": [
        "### 학습"
      ],
      "metadata": {
        "id": "Jhgcf3Fzkl48"
      }
    },
    {
      "cell_type": "code",
      "source": [
        "# 학습을 위한 연산을 train 함수로 정의\n",
        "# train : 학습할 model, 데이터를 공급해주는 train_loader, 최적화를 담당할 optimizer를 넣을 것\n",
        "def train(model : nn.Module, train_loader, optimizer):  # epoch 1번 = train 1번 = train 내부의 batch 사이즈별 학습이 따로 돎\n",
        "    # 학습 모드\n",
        "    model.train()\n",
        "    # <-> model.eval() : 평가모드\n",
        "    # 모드에 따라서 동작이 다른 파이토치 모듈\n",
        "    # 배치를 반복하여서 훈련\n",
        "    # enumerate(연속된 데이터) -> zip(인덱스, 값)\n",
        "    # data(img) : 모델에 입력할 data, target(Label) : 해당 이미지의 분류값. 클래스.\n",
        "    \n",
        "    for batch_idx, (data, target) in enumerate(train_loader):\n",
        "        # 모델에 입력될 데이터 모양(shape): [배치크기(64), 색, 높이(세로), 넓이(가로)]\n",
        "        # data.size() : [64, 1, 28, 28] <- 배치 데이터\n",
        "        # 모델의 가중치를 보낸 장치(DEVICE) -> 학습 데이터도 같은 장치로 보내야 함\n",
        "        \n",
        "        data, target = data.to(DEVICE), target.to(DEVICE)  # cuda 사용가능한 컴퓨터라면 GPU, 아니면 CPU\n",
        "\n",
        "        # 배치를 처리할 때마다 기울기를 새로 계산해줘야함 -> optimizer.zero_grad()\n",
        "        optimizer.zero_grad()\n",
        "        \n",
        "        # 학습 데이터에 대한 모델의 예측값을 output\n",
        "        output = model(data) # 순전파\n",
        "\n",
        "        # output -> 오차를 구해서 개선\n",
        "        # output & 레이블(target, 정답) 사이의 오차 구하기\n",
        "        # 한 배치(64)에 대한 오차(손실)\n",
        "        loss = F.cross_entropy(output,target)  # (결과 - 실제) error값\n",
        "        # 이진 교차 엔트로피 binary cross entropy : 클래스가 2개 (분류해야하는 대상이 2개)\n",
        "        # **교차 엔트로피 cross entropy : 클래스가 3개 이상 (이번에는 10개)\n",
        "        # F.cross_entropy -> 이것에 대한 기울기를 저장할 필요가 없어서 F 함수를 씀\n",
        "        \n",
        "        loss.backward()  # 오차 역전파로 기울기 (gradient) 계산\n",
        "        optimizer.step()  # 계산한 기울기를 바탕으로 앞서 정의한 알고리즘에 맞추어 가중치를 수정"
      ],
      "metadata": {
        "id": "5WxkMA9QkkWr"
      },
      "execution_count": 28,
      "outputs": []
    },
    {
      "cell_type": "markdown",
      "source": [
        "* 우리가 원하는 모델? : 학습 데이터에 최적화된 모델이 아닌 모든 데이터에 높은 성능을 보이는 모델\n",
        "* 일반화 `generalization` : 세상에 존재하는 모든 데이터에 최적화하는 것\n",
        "* 일반화 오류 `generalization error` : 학습 데이터를 기반으로 한 모델이 학습하지 않은 데이터에 얼마나 적응하는지를 수치로 나타낸 것\n",
        "    * 일반화 오류는 학습과 실제 성능의 괴리를 뜻하므로 작을수록 좋음\n",
        "* 학습 데이터의 일부를 떼어내어 평가용 데이터셋을 마련\n",
        "* 평가용 데이터 셋 = 테스트셋 `test set`\n",
        "    * 모델이 학습 과정에서 본 적이 없는 '실제 세상의 모든 데이터'를 대표\n",
        "\n",
        "* Fashion MNIST는 비교적 규모가 작은 데이터셋이므로 학습과 테스트 두 가지로 나뉘어 있음\n",
        "* 일반적인 머신러닝 데이터셋은 학습 `train`, 검증 `validator`, 테스트 `test` 3단계로 나뉨 \n",
        "    * 학습용 데이터셋 : 가중치를 조절\n",
        "    * 검증용 데이터셋 : 배치 크기와 모델 설계 같은 하이퍼파라미터 `hyperparameter`를 조절하는데 사용\n",
        "    * 테스트용 데이터셋 : 성능 보고에 사용\n",
        "\n",
        "* **하이퍼 파라미터** : 모델 층의 종류와 크기, 배치 크기, 학습률 등 머신러닝 모델이 배우지 않고 사용자가 직접 지정해주는 값\n",
        "    * 모델의 가중치(파라미터 parameter)를 최적화하는 데 많은 영향을 주게 됨\n",
        "    * 고로 하이퍼파라미터를 최적화하는 것도 딥러닝에서 데이터를 모으는 과정만큼이나 중요"
      ],
      "metadata": {
        "id": "ofsFCWMIvdoz"
      }
    },
    {
      "cell_type": "code",
      "source": [
        "# 평가 함수 evaluate\n",
        "# 모델의 일반화 정도 확인 + 학습을 언제 멈춰야할지 알아냄 (조기종료)\n",
        "\n",
        "def evaluate(model, test_loader): # 최적화 담당하는 optimizer 없어도 됌\n",
        "    # epoch가 끝날 때마다 테스트셋으로 모델의 성능을 측정\n",
        "    # 평가 모드\n",
        "    model.eval()\n",
        "\n",
        "    # 테스트셋의 오차\n",
        "    test_loss = 0\n",
        "    # 예측이 맞은 갯수를 담아줄 변수\n",
        "    correct = 0\n",
        "    # torch.no_grad() -> 생성 / with가 끝나면 해당 객체, 기능을 close.\n",
        "    with torch.no_grad():  # 기울기 계산 끄기\n",
        "        for data,target in test_loader:\n",
        "            # DEVICE로 데이터 보내기\n",
        "            # 테스트 데이터의 예측값\n",
        "            data,target = data.to(DEVICE), target.to(DEVICE)\n",
        "            ouput = model(data)\n",
        "\n",
        "            # 평가를 위해서 교차 엔트로피를 거칠 때 reduction을 'sum'을 지정\n",
        "            # 원래 default는 mean(평균)\n",
        "            # 모든 오차를 더해줌\n",
        "            test_loss += F.cross_entropy(ouput,target,\n",
        "                                         reduction='sum').item()\n",
        "            # item() : 스칼라 텐서 안의 숫자값을 파이썬 숫자 자료형 형태로 뽑아줌\n",
        "            # ---\n",
        "\n",
        "            # 정확도\n",
        "            # 가장 큰 값을 가진 클래스가 모델의 예측값\n",
        "            # 예측과 정답을 비교하여서 일치할 경우 -> correct에 1을 더함 \n",
        "            # print(output)\n",
        "            # https://pytorch.org/docs/stable/generated/torch.Tensor.max.html\n",
        "            pred = ouput.max(1,keepdim=True)[1]  # max(차원) : 가장큰 값을 가지는 index => class(label), \n",
        "            # print(pred)\n",
        "\n",
        "            # 모델의 예측 패션 아이템과 레이블(정답)이 일치하는지는 eq (0, 1)\n",
        "            # sum (모두 더하면 현 배치에서 모델을 맞춘 정답 개수 구함)\n",
        "            correct += pred.eq(target.view_as(pred)).sum().item()  # target을 pred의 모양으로\n",
        "            \n",
        "    # 배치별 총 오차와, 총 맞춘 개수를 합친 test_loss, correct\n",
        "\n",
        "    # test_loss : 전체 데이터셋에 대한 오차 -> 배치별로 나눠져 있는 것의 합\n",
        "    # correct : 맞힌 개수의 합\n",
        "    # 총 정답 평균 -> 100을 곱해서 정확도 (accuracy) 구하기\n",
        "    test_loss /= len(test_loader.dataset)\n",
        "    test_acc = 100. * correct / len(test_loader.dataset)\n",
        "    # 얼마나 맞췄는지\n",
        "    return test_loss, test_acc"
      ],
      "metadata": {
        "id": "vS91OmcHwSTq"
      },
      "execution_count": 36,
      "outputs": []
    },
    {
      "cell_type": "code",
      "source": [
        "# 에포크마다 학습과 테스트셋을 이용한 검증을 반복하고 결과를 출력\n",
        "for epoch in range(1, epochs + 1):\n",
        "    train(model, train_loader, optimizer)\n",
        "    test_loss, test_accuracy = evaluate(model, test_loader)\n",
        "    \n",
        "    print(f'[{epoch}] Test Loss: {test_loss:.4f}, Accuracy: {test_accuracy:.2f}%')"
      ],
      "metadata": {
        "id": "FWsUznM30aOQ",
        "colab": {
          "base_uri": "https://localhost:8080/"
        },
        "outputId": "418b818e-0b17-4565-83e8-0ada206ef23c"
      },
      "execution_count": 37,
      "outputs": [
        {
          "output_type": "stream",
          "name": "stdout",
          "text": [
            "[1] Test Loss: 0.5113, Accuracy: 82.01%\n",
            "[2] Test Loss: 0.4968, Accuracy: 82.42%\n",
            "[3] Test Loss: 0.4920, Accuracy: 82.42%\n",
            "[4] Test Loss: 0.4813, Accuracy: 83.13%\n",
            "[5] Test Loss: 0.4690, Accuracy: 83.30%\n",
            "[6] Test Loss: 0.4709, Accuracy: 83.29%\n",
            "[7] Test Loss: 0.4576, Accuracy: 83.56%\n",
            "[8] Test Loss: 0.4406, Accuracy: 84.53%\n",
            "[9] Test Loss: 0.4659, Accuracy: 83.32%\n",
            "[10] Test Loss: 0.4275, Accuracy: 84.90%\n",
            "[11] Test Loss: 0.4306, Accuracy: 84.51%\n",
            "[12] Test Loss: 0.4169, Accuracy: 85.09%\n",
            "[13] Test Loss: 0.4333, Accuracy: 84.52%\n",
            "[14] Test Loss: 0.4114, Accuracy: 85.20%\n",
            "[15] Test Loss: 0.4246, Accuracy: 84.88%\n",
            "[16] Test Loss: 0.3985, Accuracy: 85.80%\n",
            "[17] Test Loss: 0.3986, Accuracy: 85.84%\n",
            "[18] Test Loss: 0.3944, Accuracy: 85.95%\n",
            "[19] Test Loss: 0.3871, Accuracy: 86.27%\n",
            "[20] Test Loss: 0.3968, Accuracy: 85.83%\n",
            "[21] Test Loss: 0.3967, Accuracy: 86.06%\n",
            "[22] Test Loss: 0.3941, Accuracy: 85.69%\n",
            "[23] Test Loss: 0.4250, Accuracy: 84.99%\n",
            "[24] Test Loss: 0.3882, Accuracy: 86.25%\n",
            "[25] Test Loss: 0.3712, Accuracy: 86.73%\n",
            "[26] Test Loss: 0.3850, Accuracy: 86.47%\n",
            "[27] Test Loss: 0.3848, Accuracy: 86.25%\n",
            "[28] Test Loss: 0.3732, Accuracy: 86.60%\n",
            "[29] Test Loss: 0.3636, Accuracy: 86.72%\n",
            "[30] Test Loss: 0.3787, Accuracy: 86.12%\n"
          ]
        }
      ]
    },
    {
      "cell_type": "markdown",
      "source": [
        "## 과적합과 드롭아웃\n",
        "* 과적합 `overfitting`\n",
        "    * 학습 성능은 잘 나오지만, 테스트셋이나 실제 상황에서는 성능이 나오지 않을 때\n",
        "    * 너무 학습 데이터에만 치중되어 유연성이 부족해지고, 그 결과 새로운 데이터에서는 성능이 잘 나오지 않는 상황 (예 : 기출문제만 공부하고 시험 치기)\n",
        "* 과소적합 `underfitting`\n",
        "    * 과적합과는 반대로 학습을 제대로 진행하지 않은 상황\n",
        "    * 학습 데이터도 제대로 학습하지 않은 경우\n",
        "\n",
        "**바람직한 상태?** → 과소적합과 과적합의 중간\n",
        "* 학습 데이터와 학습하지 않은 실제 데이터에서 동시에 높은 성능을 내는 상태 = 일반화 `generalization`\n",
        "\n",
        "![과소적합, 일반화, 과적합](https://github.com/BigData23th/Data/raw/main/dl_02_03.jpeg)"
      ],
      "metadata": {
        "id": "93yOaHM48S0n"
      }
    },
    {
      "cell_type": "markdown",
      "source": [
        "* 분류용 모델의 결과는 일반화를 지향.\n",
        "* 데이터셋을 학습, 검증, 테스트셋으로 나누는 것도 과적합을 탐지하려는 노력의 일환\n",
        "    * 학습 데이터셋만 이용해서 학습하면 오차는 무한정 내려갈 수밖에 없음. 실제로 학습을 멈추지 않고 계속 진행해보면 학습 성능은 계속 좋아지지만, 검증/테스트 성능이 오히려 떨어지는 것을 확인할 수 있음\n",
        "    * 따라서 학습 중간중간 검증용 데이터셋으로 모델이 학습 데이터에만 과적합되지 않았는지 확인\n",
        "* 검증 데이터셋에 대한 성능이 나빠지기 시작하기 직전이 가장 적합한 모델 → 이 타이밍에 모델을 저장하여 이용하는 것을 **조기 종료**`early stopping`라고 함\n",
        "\n",
        "![조기종료](https://github.com/BigData23th/Data/raw/main/dl_02_04_.jpeg)"
      ],
      "metadata": {
        "id": "VC04E-jL8t4X"
      }
    },
    {
      "cell_type": "markdown",
      "source": [
        "* 학습을 무한히 진행하다 보면 학습 오차는 꾸준히 내려가 0으로 수렴하지만, 검증 오차는 어느 순간부터 올라가게 됨 → 너무 학습 데이터셋에 과적합되므로 검증 오차가 올라가는 것\n",
        "* 검증 오차가 올라가는 순간을 포착하여 학습을 종료하는 것이 바로 조기 종료\n",
        "* 한편, 과적합 방지를 위해 학습 데이터를 늘리는 방법과 과적합 방지 기능을 하는 드롭아웃을 모델 구조에 적용하는 방법이 있음"
      ],
      "metadata": {
        "id": "AfZoPHQ288vw"
      }
    },
    {
      "cell_type": "markdown",
      "source": [
        "### 데이터 늘리기\n",
        "* 과적합을 막기 위해 이미 가진 데이터를 최대한 늘리는 방법data augmentation 을 적용\n",
        "* 이미지 데이터라면 보통 이미지 일부분을 자르거나, 돌리고, 노이즈를 더하고, 색상을 변경하는 등 여러 방법을 사용할 수 있음\n",
        "* 예) 오른쪽과 왼쪽을 뒤집는 가로 대칭 이동 전략"
      ],
      "metadata": {
        "id": "YLl0iALE-kbo"
      }
    },
    {
      "cell_type": "code",
      "source": [
        "train_loader = torch.utils.data.DataLoader(\n",
        "    datasets.FashionMNIST('./.data',\n",
        "                   train=True,\n",
        "                   download=True,\n",
        "                   transform=transforms.Compose([\n",
        "                       # 이미지를 무작위로 수평 뒤집기 (뒤집는 것만으로 예제 수가 2배로 늚)\n",
        "                       \n",
        "                       \n",
        "                   ])),\n",
        "    batch_size=BATCH_SIZE, shuffle=True)\n",
        "test_loader = torch.utils.data.DataLoader(\n",
        "    datasets.FashionMNIST('./.data',\n",
        "                   train=False, \n",
        "                   transform=transforms.Compose([\n",
        "                       \n",
        "                       \n",
        "                   ])),\n",
        "    batch_size=BATCH_SIZE, shuffle=True)"
      ],
      "metadata": {
        "id": "xQC-rb4y8RxB"
      },
      "execution_count": null,
      "outputs": []
    },
    {
      "cell_type": "markdown",
      "source": [
        "* 좌우를 뒤바꾸어 학습 데이터 늘리기\n",
        "![flip](https://github.com/BigData23th/Data/raw/main/dl_02_05.jpeg)"
      ],
      "metadata": {
        "id": "8x8PtvXy_PIa"
      }
    },
    {
      "cell_type": "markdown",
      "source": [
        "* 드롭아웃 `dropout`\n",
        "  * 학습 진행 과정에서 신경망의 일부를 사용하지 않는 방법 (모델에 직접 영향을 주어 과적합을 해결)\n",
        "  * 예) 50% 드롭아웃이면 학습 단계마다 절반의 뉴런만 사용, 검증과 테스트 단계에서는 모든 뉴런을 사용합니다\n",
        "  * 학습에서 배제된 뉴런 외에 다른 뉴런들에 가중치를 분산시키고 개별 뉴런이 특징에 고정되는 현상을 방지하는 기능 (영향력이 큰 몇몇 요소들을 의도적으로 배제)\n",
        "  \n",
        "![드롭아웃](https://github.com/BigData23th/Data/raw/main/dl_02_06.jpeg)"
      ],
      "metadata": {
        "id": "t0vjrIWv_e8p"
      }
    },
    {
      "cell_type": "code",
      "source": [
        "# 드롭 아웃 적용을 위한 신경망 구조 수정\n",
        "class Net(nn.Module):\n",
        "    def __init__(self, dropout_p = 0.2): # 직접 설정할 수 있게 생성자로 받음 (기본값 0.2)\n",
        "\n",
        "        # 드롭아웃 비율을 결정하는 dropout_p 파라미터를 추가\n",
        "\n",
        "    def forward(self, x): # forward에 dropout 관련 설정 추가\n",
        "\n",
        "        \n",
        "        # F.dropout() 함수는 가중치가 없으므로 torch.nn.functional 패키지에서 바로 가져와서 사용할 수 있음\n",
        "        # 취향에 따라 nn.Dropout 클래스를 사용해도 무방\n",
        "        # nn.Dropout은 내부적으로 F.dropout () 함수를 쓰며 self,training 등 몇 가지 내부 변수를 자동으로 적용해주는 모듈\n",
        "        # nn.Dropout과 F.dropout()은 같은 기능의 클래스를 쓰느냐 함수를 쓰느냐 의 차이\n",
        "        \n",
        "        # 모델에는 학습과 평가 모드가 있음 → F.dropout () 함수는 모델의 모드에 따라 동작이 달라짐\n",
        "        # 학습 모드에서만 드롭아웃을 하고 평가 모드에서는 모든 뉴런을 사용해야 하기 때문.\n",
        "        \n",
        "        # model.train ()과 model.eval() 함수를 호출하여 모드를 바꿀 때마다 모델 내부의 self.training 변숫값이 True나 False로 바뀜\n",
        "        # 이 모델에선 layer1 층을 지나면서 한 번, layer2 층을 지나며 다시 한 번 드롭아웃\n",
        "\n",
        "        # 신경망 층의 출력 x와 학습인지를 알려주는 self.training, 그리고 드롭아웃 확률인 self. dropout_p를 입력해줌\n",
        "        # 드롭아웃 추가\n",
        "\n",
        "        # 드롭아웃 추가\n",
        "\n",
        "        return x"
      ],
      "metadata": {
        "id": "dujxbDD4_5nl"
      },
      "execution_count": null,
      "outputs": []
    },
    {
      "cell_type": "code",
      "source": [
        "# 드롭아웃 확률을 추가하여 모델 객체 생성 (모델을 인스턴스화)\n"
      ],
      "metadata": {
        "id": "WUhh62dzAl69"
      },
      "execution_count": null,
      "outputs": []
    },
    {
      "cell_type": "code",
      "source": [
        "# 데이터셋에 노이즈를 추가(변형)하거나 모델에 드롭아웃을 적용할 때,\n",
        "# 최고 성능에 도달하는 데까지 걸리는 시간은 길어짐 ← 데이터셋이 늘고, 모델이 느리게 학습되기 때문\n",
        "# 에포크를 늘려서 학습 → 정확도가 눈에 띄게 높이 시작해서 꾸준히 오랫동안 증가\n",
        "EPOCHS = 50\n",
        "for epoch in range(1, EPOCHS + 1):\n",
        "    train(model, train_loader, optimizer)\n",
        "    test_loss, test_accuracy = evaluate(model, test_loader)\n",
        "    \n",
        "    print(f'[{epoch}] Test Loss: {test_loss:.4f}, Accuracy: {test_accuracy:.2f}%')"
      ],
      "metadata": {
        "id": "nRLMVTBuAudo"
      },
      "execution_count": null,
      "outputs": []
    }
  ]
}